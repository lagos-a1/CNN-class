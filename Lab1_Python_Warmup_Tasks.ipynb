{
  "nbformat": 4,
  "nbformat_minor": 0,
  "metadata": {
    "colab": {
      "name": "Lab1_Python-Warmup-Tasks.ipynb",
      "provenance": [],
      "collapsed_sections": [],
      "toc_visible": true,
      "include_colab_link": true
    },
    "kernelspec": {
      "name": "python3",
      "display_name": "Python 3"
    }
  },
  "cells": [
    {
      "cell_type": "markdown",
      "metadata": {
        "id": "view-in-github",
        "colab_type": "text"
      },
      "source": [
        "<a href=\"https://colab.research.google.com/github/lagos-a1/CNN-class/blob/master/Lab1_Python_Warmup_Tasks.ipynb\" target=\"_parent\"><img src=\"https://colab.research.google.com/assets/colab-badge.svg\" alt=\"Open In Colab\"/></a>"
      ]
    },
    {
      "cell_type": "markdown",
      "metadata": {
        "id": "6_wkKAFNnJV8",
        "colab_type": "text"
      },
      "source": [
        "# Week1-Lab1: Python Warmup Tasks\n",
        "\n",
        "1.\tTask -1: Loops and conditions\n",
        "2.\tTask -2: Lists\n",
        "3.\tTask -3: Maths functions\n",
        "4.\tTask -4: More Maths functions!\n",
        "\n",
        "So lets get started!\n"
      ]
    },
    {
      "cell_type": "markdown",
      "metadata": {
        "id": "AAJk3Qg1ZS9j",
        "colab_type": "text"
      },
      "source": [
        "# Connect to your Google Drive:"
      ]
    },
    {
      "cell_type": "code",
      "metadata": {
        "id": "s-76LueFYykJ",
        "colab_type": "code",
        "colab": {
          "base_uri": "https://localhost:8080/",
          "height": 123
        },
        "outputId": "339afaa1-62f5-462b-e471-0ec8c96abafe"
      },
      "source": [
        "from google.colab import drive\n",
        "drive.mount('/content/gdrive')"
      ],
      "execution_count": 1,
      "outputs": [
        {
          "output_type": "stream",
          "text": [
            "Go to this URL in a browser: https://accounts.google.com/o/oauth2/auth?client_id=947318989803-6bn6qk8qdgf4n4g3pfee6491hc0brc4i.apps.googleusercontent.com&redirect_uri=urn%3aietf%3awg%3aoauth%3a2.0%3aoob&response_type=code&scope=email%20https%3a%2f%2fwww.googleapis.com%2fauth%2fdocs.test%20https%3a%2f%2fwww.googleapis.com%2fauth%2fdrive%20https%3a%2f%2fwww.googleapis.com%2fauth%2fdrive.photos.readonly%20https%3a%2f%2fwww.googleapis.com%2fauth%2fpeopleapi.readonly\n",
            "\n",
            "Enter your authorization code:\n",
            "··········\n",
            "Mounted at /content/gdrive\n"
          ],
          "name": "stdout"
        }
      ]
    },
    {
      "cell_type": "markdown",
      "metadata": {
        "id": "82FZfg_hzTpr",
        "colab_type": "text"
      },
      "source": [
        "#Change the directory to \"42028-DL-CNN-2020/Week1-Lab1/\"\n",
        "\n"
      ]
    },
    {
      "cell_type": "code",
      "metadata": {
        "id": "HnknC5EnzajK",
        "colab_type": "code",
        "colab": {
          "base_uri": "https://localhost:8080/",
          "height": 34
        },
        "outputId": "82b70e87-140c-4347-db1b-0575798647bf"
      },
      "source": [
        "cd /content/gdrive/My Drive/42028-DL-CNN-2020/Week1-Lab1/"
      ],
      "execution_count": 2,
      "outputs": [
        {
          "output_type": "stream",
          "text": [
            "/content/gdrive/My Drive/42028-DL-CNN-2020/Week1-Lab1\n"
          ],
          "name": "stdout"
        }
      ]
    },
    {
      "cell_type": "markdown",
      "metadata": {
        "id": "a-RH_Fpgz0ib",
        "colab_type": "text"
      },
      "source": [
        "# Listing the directory contents"
      ]
    },
    {
      "cell_type": "code",
      "metadata": {
        "id": "PNGXwy_1z6KE",
        "colab_type": "code",
        "colab": {
          "base_uri": "https://localhost:8080/",
          "height": 34
        },
        "outputId": "d70152b4-c451-4138-fea6-f20aeddfee2d"
      },
      "source": [
        "ls"
      ],
      "execution_count": 3,
      "outputs": [
        {
          "output_type": "stream",
          "text": [
            "\u001b[0m\u001b[01;34mOpenCV\u001b[0m/  \u001b[01;34mPython\u001b[0m/\n"
          ],
          "name": "stdout"
        }
      ]
    },
    {
      "cell_type": "markdown",
      "metadata": {
        "id": "-q5YmMFIMb5J",
        "colab_type": "text"
      },
      "source": [
        "# Python WarmUp Task-1\n",
        "(Loops and Conditions)"
      ]
    },
    {
      "cell_type": "markdown",
      "metadata": {
        "id": "XBtLAZ25Mzf7",
        "colab_type": "text"
      },
      "source": [
        "**Question**: You have an array  **A1** of dimension 5X5. Check whether the value in each cell is less than a **Threshold** and use the rules given below to create a result array **R1**: \n",
        "\n",
        "**Rule-1: ** If Cell_Value_A1 <= **Threshold**, Cell_Value_R1 = 0\n",
        "\n",
        "**Rule-2: ** If Cell_Value_A1 > **Threshold**, Cell_Value_R1 = 1\n",
        "\n",
        "An example of sample Array **A1** and **R1** is given below, for a **Threshold** = 99:\n",
        "\n",
        "<img src='http://drive.google.com/uc?export=view&id=1oGNv7cUvDiiVB2WIE5QoXQMIvXbz5UTT' alt='AI'>\n",
        "\n",
        "\n",
        "**Complete the below function which will return the result array R1 after applying the rules to the array A1:**"
      ]
    },
    {
      "cell_type": "code",
      "metadata": {
        "id": "PpjwFu8sfMoH",
        "colab_type": "code",
        "colab": {}
      },
      "source": [
        "def ArrayProcess(A1, A1_dimension, Threshold):\n",
        "  # Write your Code here:\n",
        "  R1=A1\n",
        "  for row in range(A1_dimension):\n",
        "    for col in range(A1_dimension):\n",
        "      if R1[row][col] <= Threshold:\n",
        "        R1[row][col]=0\n",
        "      else:\n",
        "        R1[row][col]=1\n",
        "  return R1\n"
      ],
      "execution_count": 0,
      "outputs": []
    },
    {
      "cell_type": "markdown",
      "metadata": {
        "id": "ydmqsX9unrMO",
        "colab_type": "text"
      },
      "source": [
        "## Testing:\n",
        "**[Expected Output] ** \\\\\n",
        "**Let A1 be:** \\\\\n",
        "10  101  15  12  100 \\\\\n",
        "12  125  19  14  120  \\\\\n",
        "18  155  18  16  115 \\\\\n",
        "19  140  14  18  130 \\\\\n",
        "20  135  16  13  125 \\\\\n",
        "\n",
        "**R1 should be:**\n",
        "\n",
        "0  1  0  0  1 \\\\\n",
        "0  1  0  0  1 \\\\\n",
        "0  1  0  0  1 \\\\\n",
        "0  1  0  0  1 \\\\\n",
        "0  1  0  0  1 \\\\\n",
        "\n",
        "Run the below code and check the output of your function:"
      ]
    },
    {
      "cell_type": "code",
      "metadata": {
        "id": "r41b5UCrMzIv",
        "colab_type": "code",
        "colab": {
          "base_uri": "https://localhost:8080/",
          "height": 223
        },
        "outputId": "34a2674c-7528-48d6-d772-fb384b4c3973"
      },
      "source": [
        "# Define A1, A1_dimension, and the Threshold value\n",
        "A1=[[10, 101, 15, 12, 100], [12, 125, 19, 14, 120], [18, 155, 18, 16, 115], [19, 140, 14, 18, 130], [20, 135, 16, 13, 125]]\n",
        "A1_dimension =5\n",
        "Threshold = 99\n",
        "\n",
        "# Printing the A1 array\n",
        "print(\"The A1 array is:\")\n",
        "for row in range(A1_dimension):\n",
        "  for col in range(A1_dimension):\n",
        "    print(A1[row][col], end=' ')\n",
        "  print()\n",
        "\n",
        "# Process the A1 array\n",
        "R1=ArrayProcess(A1, A1_dimension, Threshold)\n",
        "\n",
        "# Printing the R1 array\n",
        "print(\"The R1 array is:\")\n",
        "for row in range(A1_dimension):\n",
        "  for col in range(A1_dimension):\n",
        "    print(R1[row][col], end=' ')\n",
        "  print()"
      ],
      "execution_count": 8,
      "outputs": [
        {
          "output_type": "stream",
          "text": [
            "The A1 array is:\n",
            "10 101 15 12 100 \n",
            "12 125 19 14 120 \n",
            "18 155 18 16 115 \n",
            "19 140 14 18 130 \n",
            "20 135 16 13 125 \n",
            "The R1 array is:\n",
            "0 1 0 0 1 \n",
            "0 1 0 0 1 \n",
            "0 1 0 0 1 \n",
            "0 1 0 0 1 \n",
            "0 1 0 0 1 \n"
          ],
          "name": "stdout"
        }
      ]
    },
    {
      "cell_type": "markdown",
      "metadata": {
        "id": "iCnPj2TtTtk4",
        "colab_type": "text"
      },
      "source": [
        "# Python Warmup Task-2\n",
        "(Lists)"
      ]
    },
    {
      "cell_type": "markdown",
      "metadata": {
        "id": "5yTEHeXHaKu_",
        "colab_type": "text"
      },
      "source": [
        "**Question** You have a list of **'n'** number data sample. Perform the following operations:\n",
        "\n",
        "1. Split the list into three sublists in the following ratio: \n",
        "**List1:** 60% of total samples, **List2:** 20% of total sample and ** List3: ** 20% of total samples\n",
        "\n",
        "2. Shuffle the list and split the into three sublist in the same way as mentioned in operation-1\n",
        "\n",
        "**Hint:** random.shuffle(*<list-name>*) will shuffle the list elements\n",
        "\n",
        "**Complete the below function to achieve the two task as mentioned above and  will return the three seperate lists**"
      ]
    },
    {
      "cell_type": "code",
      "metadata": {
        "id": "IdxRlHEsaKN2",
        "colab_type": "code",
        "colab": {}
      },
      "source": [
        "def SplitList(InputList, shuffle=False):\n",
        "  #Write your code here\n",
        "  if(shuffle):\n",
        "    random.shuffle(InputList)\n",
        "  List1=InputList[:int(len(InputList)*0.6)]\n",
        "  List2=InputList[int(len(InputList)*0.6):int(len(InputList)*0.8)]\n",
        "  List3=InputList[int(len(InputList)*0.8):]\n",
        "  \n",
        "  return List1, List2, List3"
      ],
      "execution_count": 0,
      "outputs": []
    },
    {
      "cell_type": "markdown",
      "metadata": {
        "id": "8aBFZ-ICgL9Y",
        "colab_type": "text"
      },
      "source": [
        "##Testing:\n",
        "InputList = [\"Sample1\", \"Sample2\", \"Sample3\", \"Sample4\", \"Sample5\", \"Sample6\", \"Sample7\", \"Sample8\", \"Sample9\", \"Sample10\"]\n",
        "\n",
        "**[Expected Output]**\n",
        "\n",
        "**A. Without Shuffling the List:**\n",
        "\n",
        "  List1 = ['Sample6', 'Sample7', 'Sample3', 'Sample10', 'Sample4', 'Sample2'] \n",
        "\n",
        "  List2 = ['Sample9', 'Sample1']\n",
        "\n",
        "  List3 = ['Sample8', 'Sample5']\n",
        "  \n",
        "** B. With Shuffling: The output is random**\n",
        "\n",
        "Check the output of your function by running the code given below:"
      ]
    },
    {
      "cell_type": "code",
      "metadata": {
        "id": "6e3zmulOT3BY",
        "colab_type": "code",
        "colab": {
          "base_uri": "https://localhost:8080/",
          "height": 223
        },
        "outputId": "433294b7-318d-4f6f-c949-fe460cdd600a"
      },
      "source": [
        "import random\n",
        "#Create a DataList\n",
        "DataList = [\"Sample1\", \"Sample2\", \"Sample3\", \"Sample4\",\"Sample5\", \"Sample6\",\"Sample7\", \"Sample8\",\"Sample9\", \"Sample10\"]\n",
        "print(\"The InputList is:\\n\", DataList) # Display the list elements\n",
        "\n",
        "# Call the function SplitList without Shuffling \n",
        "L1, L2, L3 = SplitList(DataList, False)\n",
        "# Display the elements in each list\n",
        "print(\"\\nThe sublist elements without shuffling are:\")\n",
        "print(\"List1:\", L1)\n",
        "print(\"List2:\", L2)\n",
        "print(\"List3:\", L3)\n",
        "\n",
        "# Call the function SplitList without Shuffling \n",
        "L1, L2, L3 = SplitList(DataList, True)\n",
        "# Display the elements in each list\n",
        "print(\"\\nThe sublist elements after shuffling are:\")\n",
        "print(\"List1:\", L1)\n",
        "print(\"List2:\", L2)\n",
        "print(\"List3:\", L3)"
      ],
      "execution_count": 20,
      "outputs": [
        {
          "output_type": "stream",
          "text": [
            "The InputList is:\n",
            " ['Sample1', 'Sample2', 'Sample3', 'Sample4', 'Sample5', 'Sample6', 'Sample7', 'Sample8', 'Sample9', 'Sample10']\n",
            "\n",
            "The sublist elements without shuffling are:\n",
            "List1: ['Sample1', 'Sample2', 'Sample3', 'Sample4', 'Sample5', 'Sample6']\n",
            "List2: ['Sample7', 'Sample8']\n",
            "List3: ['Sample9', 'Sample10']\n",
            "\n",
            "The sublist elements after shuffling are:\n",
            "List1: ['Sample8', 'Sample6', 'Sample1', 'Sample7', 'Sample4', 'Sample3']\n",
            "List2: ['Sample2', 'Sample5']\n",
            "List3: ['Sample9', 'Sample10']\n"
          ],
          "name": "stdout"
        }
      ]
    },
    {
      "cell_type": "markdown",
      "metadata": {
        "id": "2fKFGZXfiweY",
        "colab_type": "text"
      },
      "source": [
        "# Python Warmup Task-3\n",
        "( Maths! )"
      ]
    },
    {
      "cell_type": "markdown",
      "metadata": {
        "id": "3F3S0iPGj-wc",
        "colab_type": "text"
      },
      "source": [
        "**Question** Write the function which calculates the Root Mean Squared Error (RMSE) using the formula given below:\n",
        "\n",
        "![alt text](https://i.stack.imgur.com/RIq96.png)\n",
        "\n",
        "\n",
        "**Note:** RMSE answers the question: \"How similar, on average, are the numbers in list1 to list2?\". The two lists must be the same size. I want to \"wash out the noise between any two given elements, wash out the size of the data collected, and get a single number feel for change over time\". \n",
        "\n",
        "**Complete the function given below which returns the RMSE of two list such as Prediction and Target**\n",
        "\n",
        "**Hint** Useful methods from numpy\n",
        "\n",
        "1. sqrt()\n",
        "\n",
        "2. mean()\n",
        "\n",
        "3. ** --> power\n",
        "\n",
        "\n",
        "**Reference**: https://docs.python.org/2/library/math.html \n"
      ]
    },
    {
      "cell_type": "code",
      "metadata": {
        "id": "TOAP980XmP26",
        "colab_type": "code",
        "colab": {}
      },
      "source": [
        "import numpy as np\n",
        "def rmse(predictions, targets): \n",
        "    # Write your code here\n",
        "    return np.sqrt(((predictions - targets)**2).mean())"
      ],
      "execution_count": 0,
      "outputs": []
    },
    {
      "cell_type": "markdown",
      "metadata": {
        "id": "wG8oilMzrEkH",
        "colab_type": "text"
      },
      "source": [
        "##Testing\n",
        "\n",
        "Let,\n",
        "\n",
        "**target= [0.000, 0.166, 0.333]**\n",
        "\n",
        "**prediction = [0.000, 0.254, 0.998]**\n",
        "\n",
        "\n",
        "\n",
        "**[Expected Output]**\n",
        "\n",
        "**RMSE** = 0.3872849941150143"
      ]
    },
    {
      "cell_type": "code",
      "metadata": {
        "id": "-ivTVxo7mi1v",
        "colab_type": "code",
        "colab": {
          "base_uri": "https://localhost:8080/",
          "height": 34
        },
        "outputId": "4383ed6c-1e43-40a3-c9a0-f26a544f1ee9"
      },
      "source": [
        "t = [0.000, 0.166, 0.333]\n",
        "p = [0.000, 0.254, 0.998]\n",
        "\n",
        "rmse_val = rmse(np.array(p), np.array(t))\n",
        "print(\"RMSE: \" + str(rmse_val))"
      ],
      "execution_count": 23,
      "outputs": [
        {
          "output_type": "stream",
          "text": [
            "RMSE: 0.3872849941150143\n"
          ],
          "name": "stdout"
        }
      ]
    },
    {
      "cell_type": "markdown",
      "metadata": {
        "id": "4GF6MzC-wYH_",
        "colab_type": "text"
      },
      "source": [
        "#Python Warmup Task-4\n",
        "(Maths!)\n",
        "\n",
        "\n",
        "A logistic sigmoid function is of a form:\n",
        "\n",
        "![alt text](https://i.stack.imgur.com/SUuRi.png)\n",
        "\n",
        "Write a function to calculate F(x) is Python.\n",
        "\n",
        "Hint:\n",
        "\n",
        "**exp(x)** --> Return e**x. \n",
        "\n",
        "\n",
        "**Reference**: https://docs.python.org/2/library/math.html"
      ]
    },
    {
      "cell_type": "code",
      "metadata": {
        "id": "PQYKoNRvpV3f",
        "colab_type": "code",
        "colab": {}
      },
      "source": [
        "import math\n",
        "def sigmoid(x):\n",
        "  return 1/(1+math.exp(-x))\n",
        "  #write your code here"
      ],
      "execution_count": 0,
      "outputs": []
    },
    {
      "cell_type": "markdown",
      "metadata": {
        "id": "ws9_G0Ugx3dr",
        "colab_type": "text"
      },
      "source": [
        "##Testing:\n",
        "\n",
        "For, x = 0.458\n",
        "\n",
        "**[Expected Output]**\n",
        "\n",
        "sigmoid(0.458) --> 0.6125396134409151\n",
        "\n",
        "Execute the code given below to check to the output of your function."
      ]
    },
    {
      "cell_type": "code",
      "metadata": {
        "id": "WzSbIXxLx2YE",
        "colab_type": "code",
        "colab": {
          "base_uri": "https://localhost:8080/",
          "height": 34
        },
        "outputId": "a4a85260-fc26-4a25-a734-65a98dccad58"
      },
      "source": [
        "x = 0.458\n",
        "print(sigmoid(x))"
      ],
      "execution_count": 25,
      "outputs": [
        {
          "output_type": "stream",
          "text": [
            "0.6125396134409151\n"
          ],
          "name": "stdout"
        }
      ]
    },
    {
      "cell_type": "markdown",
      "metadata": {
        "id": "vJe_bWwBtdH-",
        "colab_type": "text"
      },
      "source": [
        "# New Section"
      ]
    }
  ]
}